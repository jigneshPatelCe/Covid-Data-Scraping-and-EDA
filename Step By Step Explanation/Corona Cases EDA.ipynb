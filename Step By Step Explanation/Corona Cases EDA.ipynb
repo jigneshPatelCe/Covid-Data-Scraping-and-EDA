{
 "cells": [
  {
   "cell_type": "markdown",
   "metadata": {},
   "source": [
    "  <tr>\n",
    "        <td width=\"60%\">\n",
    "            <img src=\"EDA.jpg\">\n",
    "        </td>\n",
    "        <td>\n",
    "            <div align=\"center\">\n",
    "                <font size=24px>\n",
    "                    <b> Exploratory Data Analysis: Corona Cases\n",
    "                    </b>\n",
    "                </font>\n",
    "            </div>\n",
    "        </td>\n",
    "    </tr>"
   ]
  },
  {
   "cell_type": "code",
   "execution_count": null,
   "metadata": {},
   "outputs": [],
   "source": [
    "# libraries for Web Scrapping\n",
    "import requests\n",
    "from bs4 import BeautifulSoup\n",
    "\n",
    "# library for advance string manipulation\n",
    "import string\n",
    "\n",
    "# library for data manipulation\n",
    "import pandas as pd\n",
    "\n",
    "# library for advance mathematical operations\n",
    "import numpy as np\n",
    "\n",
    "# library for visualization\n",
    "import matplotlib.pyplot as plt\n",
    "import seaborn as sns"
   ]
  },
  {
   "cell_type": "markdown",
   "metadata": {},
   "source": [
    "# Read the CSV file"
   ]
  },
  {
   "cell_type": "code",
   "execution_count": null,
   "metadata": {},
   "outputs": [],
   "source": [
    "# reading the csv file\n",
    "df_corona = pd.read_csv('covid May-09-2020 21-13-46.csv')"
   ]
  },
  {
   "cell_type": "code",
   "execution_count": null,
   "metadata": {
    "scrolled": true
   },
   "outputs": [],
   "source": [
    "# getting a quick info of the features\n",
    "df_corona.info()"
   ]
  },
  {
   "cell_type": "code",
   "execution_count": null,
   "metadata": {},
   "outputs": [],
   "source": [
    "# all the features are in string format. So, to clean them we will convert the datatype  of the column NewDeaths to string\n",
    "df_corona['NewDeaths'] = df_corona['NewDeaths'].astype(str)"
   ]
  },
  {
   "cell_type": "code",
   "execution_count": null,
   "metadata": {},
   "outputs": [],
   "source": [
    "# replacing the ',' and the '+' in the values with an empty string\n",
    "# stripping out the whitespace from the values \n",
    "for column in df_corona:\n",
    "    df_corona[column] = df_corona[column].str.replace(',','')\n",
    "    df_corona[column] = df_corona[column].str.replace('+','')\n",
    "    df_corona[column] = df_corona[column].str.strip()\n",
    "    \n",
    "df_corona.head()"
   ]
  },
  {
   "cell_type": "code",
   "execution_count": null,
   "metadata": {
    "scrolled": true
   },
   "outputs": [],
   "source": [
    "# creating a list of the columns\n",
    "columns_to_convert = ['TotalCases', 'NewCases', 'NewDeaths',\n",
    "       'TotalRecovered', 'ActiveCases', 'Serious,Critical', 'TotCases/1M pop',\n",
    "       'Deaths/1M pop', 'TotalTests', 'Tests/1M pop']\n",
    "\n",
    "# after cleaning, converting the datatype of the columns to float\n",
    "for column in columns_to_convert:\n",
    "    df_corona[column] = df_corona[column].astype(float)"
   ]
  },
  {
   "cell_type": "code",
   "execution_count": null,
   "metadata": {},
   "outputs": [],
   "source": [
    "# we are not able to convert the column 'TotalDeaths' to float because there is a blank string value in that column\n",
    "# we are forcing the column to convert into numeric form\n",
    "# errors='coerce' converts the inconvertable values to NaN\n",
    "df_corona.TotalDeaths = pd.to_numeric(df_corona.TotalDeaths, errors='coerce')"
   ]
  },
  {
   "cell_type": "code",
   "execution_count": null,
   "metadata": {},
   "outputs": [],
   "source": [
    "df_corona.tail()"
   ]
  },
  {
   "cell_type": "code",
   "execution_count": null,
   "metadata": {},
   "outputs": [],
   "source": [
    "# replacing the null values in the column 'TotalDeaths' with 0\n",
    "df_corona['TotalDeaths'] = df_corona['TotalDeaths'].replace(np.nan,0)\n",
    "df_corona.tail()"
   ]
  },
  {
   "cell_type": "markdown",
   "metadata": {},
   "source": [
    "# Now, df_corona is ready for EDA"
   ]
  },
  {
   "cell_type": "code",
   "execution_count": null,
   "metadata": {},
   "outputs": [],
   "source": [
    "# presetting the size of the images\n",
    "plt.rcParams['figure.figsize'] = 16, 8"
   ]
  },
  {
   "cell_type": "code",
   "execution_count": null,
   "metadata": {},
   "outputs": [],
   "source": [
    "# sorting the  dataframe in the descending order according to the TotalCases  \n",
    "df_corona = df_corona.sort_values('TotalCases', ascending=False)\n",
    "df_corona.head(15)"
   ]
  },
  {
   "cell_type": "markdown",
   "metadata": {},
   "source": [
    "## Creating a barplot for the top 10 `Countries` and the `Total Cases` for each country "
   ]
  },
  {
   "cell_type": "code",
   "execution_count": null,
   "metadata": {},
   "outputs": [],
   "source": [
    "sns.barplot(x=df_corona.Country[:10], y=df_corona.TotalCases[:10])"
   ]
  },
  {
   "cell_type": "markdown",
   "metadata": {},
   "source": [
    "**Interpretation:** `USA` has the highest number of cases in the world i.e. more than `1200000`"
   ]
  },
  {
   "cell_type": "code",
   "execution_count": null,
   "metadata": {},
   "outputs": [],
   "source": [
    "sns.barplot(x=df_corona.Country[-5:], y=df_corona.TotalCases[-5:])"
   ]
  },
  {
   "cell_type": "markdown",
   "metadata": {},
   "source": [
    "**Interpretation:** `Saint Pierre Miquelon` has the least number of cases in the world i.e. `1`"
   ]
  },
  {
   "cell_type": "markdown",
   "metadata": {},
   "source": [
    "## A barplot for the top 10 `Countries` and the `Total Deaths` in each country "
   ]
  },
  {
   "cell_type": "code",
   "execution_count": null,
   "metadata": {
    "scrolled": false
   },
   "outputs": [],
   "source": [
    "# sorting the  dataframe in the descending order according to the TotalDeaths  \n",
    "df_corona = df_corona.sort_values('TotalDeaths', ascending=False)\n",
    "sns.barplot(x=df_corona.Country[:10], y=df_corona.TotalDeaths[:10])"
   ]
  },
  {
   "cell_type": "markdown",
   "metadata": {},
   "source": [
    "**Interpretation:** `USA` has the highest number of deaths in the world i.e. around `80000`"
   ]
  },
  {
   "cell_type": "markdown",
   "metadata": {},
   "source": [
    "## A barplot for the top 10 `Countries` and the `Active Cases` in each country "
   ]
  },
  {
   "cell_type": "code",
   "execution_count": null,
   "metadata": {},
   "outputs": [],
   "source": [
    "# sorting the  dataframe in the descending order according to the ActiveCases  \n",
    "df_corona = df_corona.sort_values('ActiveCases', ascending=False)\n",
    "sns.barplot(x=df_corona.Country[:10], y=df_corona.ActiveCases[:10])"
   ]
  },
  {
   "cell_type": "markdown",
   "metadata": {},
   "source": [
    "## A barplot for the top 10 `Countries` and the `Total Recovered` cases in each country "
   ]
  },
  {
   "cell_type": "code",
   "execution_count": null,
   "metadata": {},
   "outputs": [],
   "source": [
    "# sorting the  dataframe in the descending order according to the TotalRecovered  \n",
    "df_corona = df_corona.sort_values('TotalRecovered', ascending=False)\n",
    "sns.barplot(x=df_corona.Country[:10], y=df_corona.TotalRecovered[:10])"
   ]
  },
  {
   "cell_type": "code",
   "execution_count": null,
   "metadata": {},
   "outputs": [],
   "source": [
    "sns.boxplot(df_corona.TotalCases)"
   ]
  },
  {
   "cell_type": "code",
   "execution_count": null,
   "metadata": {},
   "outputs": [],
   "source": [
    "sns.distplot(df_corona.TotalCases, color='red')"
   ]
  },
  {
   "cell_type": "code",
   "execution_count": null,
   "metadata": {},
   "outputs": [],
   "source": [
    "sns.rugplot(df_corona.ActiveCases, height=0.5)"
   ]
  },
  {
   "cell_type": "code",
   "execution_count": null,
   "metadata": {},
   "outputs": [],
   "source": [
    "corrmat = df_corona.corr()\n",
    "sns.heatmap(corrmat[corrmat>0.8], annot = True)\n",
    "\n",
    "b, t = plt.ylim()  # discover the values for bottom and top\n",
    "b += 0.5           # Add 0.5 to the bottom\n",
    "t -= 0.5           # Subtract 0.5 from the top\n",
    "plt.ylim(b, t)     # update the ylim(bottom, top) values\n",
    "plt.show() "
   ]
  },
  {
   "cell_type": "code",
   "execution_count": null,
   "metadata": {},
   "outputs": [],
   "source": [
    "sns.jointplot(df_corona.TotalCases, df_corona.TotalDeaths, kind='reg')"
   ]
  },
  {
   "cell_type": "code",
   "execution_count": null,
   "metadata": {},
   "outputs": [],
   "source": [
    "# group the dataframe on the basis of Continents\n",
    "group1 = df_corona.groupby('Continent')"
   ]
  },
  {
   "cell_type": "code",
   "execution_count": null,
   "metadata": {},
   "outputs": [],
   "source": [
    "# find the total cases for each continent\n",
    "group1['TotalCases'].sum()"
   ]
  },
  {
   "cell_type": "code",
   "execution_count": null,
   "metadata": {},
   "outputs": [],
   "source": [
    "# find the average of each column for each continent\n",
    "group1.agg(np.mean)"
   ]
  },
  {
   "cell_type": "markdown",
   "metadata": {},
   "source": [
    "## What is this continent 0 and the value 721"
   ]
  },
  {
   "cell_type": "code",
   "execution_count": null,
   "metadata": {},
   "outputs": [],
   "source": [
    "df_corona[df_corona.Continent=='0']"
   ]
  },
  {
   "cell_type": "code",
   "execution_count": null,
   "metadata": {},
   "outputs": [],
   "source": [
    "# reading the csv file\n",
    "df_corona_cont = pd.read_csv('covid_per_continent May-09-2020 21-13-46.csv')"
   ]
  },
  {
   "cell_type": "code",
   "execution_count": null,
   "metadata": {},
   "outputs": [],
   "source": [
    "df_corona_cont"
   ]
  },
  {
   "cell_type": "markdown",
   "metadata": {},
   "source": [
    "  <tr>\n",
    "        <td width=\"30%\">\n",
    "            <img src=\"stage2.png\" class=\"center\" width=100%>\n",
    "        </td>\n",
    "   \n",
    "    </tr>"
   ]
  }
 ],
 "metadata": {
  "kernelspec": {
   "display_name": "Python 3",
   "language": "python",
   "name": "python3"
  },
  "language_info": {
   "codemirror_mode": {
    "name": "ipython",
    "version": 3
   },
   "file_extension": ".py",
   "mimetype": "text/x-python",
   "name": "python",
   "nbconvert_exporter": "python",
   "pygments_lexer": "ipython3",
   "version": "3.7.4"
  }
 },
 "nbformat": 4,
 "nbformat_minor": 2
}
