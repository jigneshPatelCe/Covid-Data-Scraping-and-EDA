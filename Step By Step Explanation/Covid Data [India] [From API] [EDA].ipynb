{
 "cells": [
  {
   "cell_type": "markdown",
   "metadata": {},
   "source": [
    "  <tr>\n",
    "        <td width=\"50%\">\n",
    "            <img src=\"api.jpg\">\n",
    "        </td>\n",
    "        <td>\n",
    "            <div align=\"center\">\n",
    "                <font size=24px>\n",
    "                    <b> India Corona Cases: Getting the Using an API\n",
    "                    </b>\n",
    "                </font>\n",
    "            </div>\n",
    "        </td>\n",
    "    </tr>"
   ]
  },
  {
   "cell_type": "markdown",
   "metadata": {},
   "source": [
    "# Extract the Corona Virus Cases in India data from an API"
   ]
  },
  {
   "cell_type": "code",
   "execution_count": null,
   "metadata": {},
   "outputs": [],
   "source": [
    "# library for data manipulation\n",
    "import pandas as pd\n",
    "\n",
    "# library for advance mathematical operations\n",
    "import numpy as np\n",
    "\n",
    "# library for visualization\n",
    "import matplotlib.pyplot as plt\n",
    "import seaborn as sns\n",
    "\n",
    "# library for dealing with json data\n",
    "import json"
   ]
  },
  {
   "cell_type": "markdown",
   "metadata": {},
   "source": [
    "# Reading the json data from the file"
   ]
  },
  {
   "cell_type": "code",
   "execution_count": null,
   "metadata": {},
   "outputs": [],
   "source": [
    "# load the saved json file\n",
    "covid_data = json.load(open('covid.json'))"
   ]
  },
  {
   "cell_type": "code",
   "execution_count": null,
   "metadata": {},
   "outputs": [],
   "source": [
    "# check the datatype covid_data\n",
    "type(covid_data)"
   ]
  },
  {
   "cell_type": "code",
   "execution_count": null,
   "metadata": {},
   "outputs": [],
   "source": [
    "covid_data"
   ]
  },
  {
   "cell_type": "markdown",
   "metadata": {},
   "source": [
    "# Reading the json data directly from the api"
   ]
  },
  {
   "cell_type": "code",
   "execution_count": null,
   "metadata": {},
   "outputs": [],
   "source": [
    "import requests"
   ]
  },
  {
   "cell_type": "code",
   "execution_count": null,
   "metadata": {},
   "outputs": [],
   "source": [
    "# read the data directly from the api\n",
    "covid_data_req = requests.get('https://api.rootnet.in/covid19-in/stats/latest')\n",
    "covid_data_req"
   ]
  },
  {
   "cell_type": "code",
   "execution_count": null,
   "metadata": {},
   "outputs": [],
   "source": [
    "# get the data in text format\n",
    "covid_data_text = covid_data_req.text\n",
    "covid_data_text"
   ]
  },
  {
   "cell_type": "code",
   "execution_count": null,
   "metadata": {},
   "outputs": [],
   "source": [
    "# load the json data\n",
    "covid_data = json.loads(covid_data_text)\n",
    "covid_data"
   ]
  },
  {
   "cell_type": "markdown",
   "metadata": {},
   "source": [
    "# Timestamp when the data was refreshed"
   ]
  },
  {
   "cell_type": "code",
   "execution_count": null,
   "metadata": {},
   "outputs": [],
   "source": [
    "# accessing the value of the key 'lastrefreshed'\n",
    "covid_data['lastRefreshed']"
   ]
  },
  {
   "cell_type": "code",
   "execution_count": null,
   "metadata": {},
   "outputs": [],
   "source": [
    "last_refreshed_date = covid_data['lastRefreshed'].split('T')[0]\n",
    "last_refreshed_time = covid_data['lastRefreshed'].split('T')[1].split('.')[0]\n",
    "\n",
    "print('This data was last refreshed on the date: ', last_refreshed_date)\n",
    "print('This data was last refreshed at the time: ', last_refreshed_time)"
   ]
  },
  {
   "cell_type": "markdown",
   "metadata": {},
   "source": [
    "# Summary of cases for India"
   ]
  },
  {
   "cell_type": "code",
   "execution_count": null,
   "metadata": {},
   "outputs": [],
   "source": [
    "# accessing the key 'summary' to get the total summary of corona cases in India\n",
    "pd.Series(covid_data['data']['summary'])"
   ]
  },
  {
   "cell_type": "markdown",
   "metadata": {},
   "source": [
    "# Creating a dataframe for the regional data"
   ]
  },
  {
   "cell_type": "code",
   "execution_count": null,
   "metadata": {},
   "outputs": [],
   "source": [
    "# accessing the regional data\n",
    "df_corona = pd.DataFrame(covid_data['data']['regional'])"
   ]
  },
  {
   "cell_type": "code",
   "execution_count": null,
   "metadata": {},
   "outputs": [],
   "source": [
    "df_corona.head()"
   ]
  },
  {
   "cell_type": "code",
   "execution_count": null,
   "metadata": {},
   "outputs": [],
   "source": [
    "df_corona.info()"
   ]
  },
  {
   "cell_type": "code",
   "execution_count": null,
   "metadata": {},
   "outputs": [],
   "source": [
    "# changing the column names\n",
    "df_corona.columns = ['Location', 'Confirmed Cases [Indian]', 'Discharged', 'Deaths', 'Confirmed Cases [Foreign]', 'Total Confirmed Cases']"
   ]
  },
  {
   "cell_type": "code",
   "execution_count": null,
   "metadata": {},
   "outputs": [],
   "source": [
    "df_corona.sort_values('Total Confirmed Cases', ascending=False).head(10)"
   ]
  },
  {
   "cell_type": "markdown",
   "metadata": {},
   "source": [
    "# Exploratory Data Analysis"
   ]
  },
  {
   "cell_type": "code",
   "execution_count": null,
   "metadata": {},
   "outputs": [],
   "source": [
    "# presetting the size of the images\n",
    "plt.rcParams['figure.figsize'] = 10, 8"
   ]
  },
  {
   "cell_type": "markdown",
   "metadata": {},
   "source": [
    "## Creating a barplot for the `Locations` and the `Total Confirmed Cases` in each location "
   ]
  },
  {
   "cell_type": "code",
   "execution_count": null,
   "metadata": {},
   "outputs": [],
   "source": [
    "# sorting the  dataframe in the descending order according to the 'Total Confirmed Cases'\n",
    "df_corona = df_corona.sort_values('Total Confirmed Cases', ascending=False)\n",
    "sns.barplot(x='Total Confirmed Cases', y='Location', data=df_corona)"
   ]
  },
  {
   "cell_type": "markdown",
   "metadata": {},
   "source": [
    "## Creating a barplot for the `Locations` and the `Deaths` in each location "
   ]
  },
  {
   "cell_type": "code",
   "execution_count": null,
   "metadata": {},
   "outputs": [],
   "source": [
    "# sorting the  dataframe in the descending order according to the 'Deaths\n",
    "df_corona = df_corona.sort_values('Deaths', ascending=False)\n",
    "sns.barplot(x='Deaths', y='Location', data=df_corona)"
   ]
  },
  {
   "cell_type": "markdown",
   "metadata": {},
   "source": [
    "# Converting the values of 'Total Confirmed Cases' to percentage for better understanding"
   ]
  },
  {
   "cell_type": "code",
   "execution_count": null,
   "metadata": {},
   "outputs": [],
   "source": [
    "# finding percentage\n",
    "df_corona['Total Confirmed Cases (in %)'] = df_corona['Total Confirmed Cases'] / df_corona['Total Confirmed Cases'].sum() *100"
   ]
  },
  {
   "cell_type": "code",
   "execution_count": null,
   "metadata": {},
   "outputs": [],
   "source": [
    "# accessing the columns Location and Total Confirmed Cases and then sorting the resultant dataframe in descending order\n",
    "df_corona[['Location', 'Total Confirmed Cases (in %)']].sort_values('Total Confirmed Cases (in %)', ascending=False)"
   ]
  },
  {
   "cell_type": "markdown",
   "metadata": {},
   "source": [
    "# Write the data to a csv file"
   ]
  },
  {
   "cell_type": "code",
   "execution_count": null,
   "metadata": {},
   "outputs": [],
   "source": [
    "timestamp = last_refreshed_date + '_' + last_refreshed_time\n",
    "timestamp = timestamp.replace(':', '-')\n",
    "df_corona.to_csv('India_Covid_Cases_{}.csv'.format(timestamp), index=False)"
   ]
  },
  {
   "cell_type": "markdown",
   "metadata": {},
   "source": [
    "  <tr>\n",
    "        <td width=\"50%\">\n",
    "            <img src=\"stage4.jpg\" class=\"center\" width=100%>\n",
    "        </td>\n",
    "   \n",
    "    </tr>"
   ]
  }
 ],
 "metadata": {
  "kernelspec": {
   "display_name": "Python 3",
   "language": "python",
   "name": "python3"
  },
  "language_info": {
   "codemirror_mode": {
    "name": "ipython",
    "version": 3
   },
   "file_extension": ".py",
   "mimetype": "text/x-python",
   "name": "python",
   "nbconvert_exporter": "python",
   "pygments_lexer": "ipython3",
   "version": "3.7.4"
  }
 },
 "nbformat": 4,
 "nbformat_minor": 2
}
