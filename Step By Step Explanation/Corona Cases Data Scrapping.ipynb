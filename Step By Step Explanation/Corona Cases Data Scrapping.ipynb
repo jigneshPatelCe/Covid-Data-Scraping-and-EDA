{
 "cells": [
  {
   "cell_type": "markdown",
   "metadata": {},
   "source": [
    "  <tr>\n",
    "        <td width=\"60%\">\n",
    "            <img src=\"data_scraping.png\">\n",
    "        </td>\n",
    "        <td>\n",
    "            <div align=\"center\">\n",
    "                <font size=24px>\n",
    "                    <b> Data Scrapping: Corona Cases\n",
    "                    </b>\n",
    "                </font>\n",
    "            </div>\n",
    "        </td>\n",
    "    </tr>"
   ]
  },
  {
   "cell_type": "code",
   "execution_count": null,
   "metadata": {},
   "outputs": [],
   "source": [
    "# libraries for Web Scrapping\n",
    "import requests\n",
    "from bs4 import BeautifulSoup\n",
    "\n",
    "# library for advance string manipulation\n",
    "import string\n",
    "\n",
    "# library for data manipulation\n",
    "import pandas as pd\n",
    "\n",
    "# library for advance mathematical operations\n",
    "import numpy as np"
   ]
  },
  {
   "cell_type": "markdown",
   "metadata": {},
   "source": [
    "# Total Cases"
   ]
  },
  {
   "cell_type": "markdown",
   "metadata": {},
   "source": [
    "### Get the webpage"
   ]
  },
  {
   "cell_type": "code",
   "execution_count": null,
   "metadata": {},
   "outputs": [],
   "source": [
    "page = requests.get(\"https://www.worldometers.info/coronavirus/\")\n",
    "soup = BeautifulSoup(page.content, 'html.parser')\n",
    "# soup"
   ]
  },
  {
   "cell_type": "markdown",
   "metadata": {},
   "source": [
    "### Extract the html code for class : content-inner"
   ]
  },
  {
   "cell_type": "code",
   "execution_count": null,
   "metadata": {},
   "outputs": [],
   "source": [
    "# find() returns a single element\n",
    "all_cases = soup.find(class_=\"content-inner\")\n",
    "# all_cases"
   ]
  },
  {
   "cell_type": "markdown",
   "metadata": {},
   "source": [
    "### Extract the html code for class : maincounter-number"
   ]
  },
  {
   "cell_type": "code",
   "execution_count": null,
   "metadata": {},
   "outputs": [],
   "source": [
    "# find_all() searches for the all the tags where the class \"maincounter-number\" is found and return a list of all the occurences \n",
    "main_total_count = all_cases.find_all(class_=\"maincounter-number\")\n",
    "main_total_count"
   ]
  },
  {
   "cell_type": "code",
   "execution_count": null,
   "metadata": {},
   "outputs": [],
   "source": [
    "# get the text of the first element form the above obtained list and clean the text\n",
    "total_cases = main_total_count[0].get_text().replace('\\n','').strip()\n",
    "total_cases"
   ]
  },
  {
   "cell_type": "code",
   "execution_count": null,
   "metadata": {},
   "outputs": [],
   "source": [
    "# get the text of the second element form the above obtained list and clean the text\n",
    "total_deaths = main_total_count[1].get_text().replace('\\n','').strip()\n",
    "total_deaths"
   ]
  },
  {
   "cell_type": "code",
   "execution_count": null,
   "metadata": {},
   "outputs": [],
   "source": [
    "# get the text of the third element form the above obtained list and clean the text\n",
    "total_recovered = main_total_count[2].get_text().replace('\\n','').strip()\n",
    "total_recovered"
   ]
  },
  {
   "cell_type": "code",
   "execution_count": null,
   "metadata": {},
   "outputs": [],
   "source": [
    "# create a dictionary that hold all the extracted values\n",
    "total_cases_dict = {'Total Cases':total_cases,\n",
    "                   'Total Deaths':total_deaths,\n",
    "                   'Total Recovered':total_recovered}\n",
    "\n",
    "total_cases_dict"
   ]
  },
  {
   "cell_type": "markdown",
   "metadata": {},
   "source": [
    "# Active Cases"
   ]
  },
  {
   "cell_type": "code",
   "execution_count": null,
   "metadata": {},
   "outputs": [],
   "source": [
    "all_cases = soup.find(class_=\"content-inner\")\n",
    "# all_cases"
   ]
  },
  {
   "cell_type": "code",
   "execution_count": null,
   "metadata": {},
   "outputs": [],
   "source": [
    "# find_all() searches for the all the tags where the class \"number-table-main\" is found and return a list of all the occurences \n",
    "currently_infected_people = all_cases.find_all(class_=\"number-table-main\")\n",
    "currently_infected_people"
   ]
  },
  {
   "cell_type": "code",
   "execution_count": null,
   "metadata": {},
   "outputs": [],
   "source": [
    "# get the text of the first element form the above obtained list and clean the text\n",
    "CIP = currently_infected_people[0].get_text()\n",
    "CIP"
   ]
  },
  {
   "cell_type": "code",
   "execution_count": null,
   "metadata": {},
   "outputs": [],
   "source": [
    "# find_all() searches for the all the tags where the class \"number-table\" is found and return a list of all the occurences \n",
    "currently_infected_people_condition = all_cases.find_all(class_=\"number-table\")\n",
    "currently_infected_people_condition"
   ]
  },
  {
   "cell_type": "code",
   "execution_count": null,
   "metadata": {},
   "outputs": [],
   "source": [
    "# get the text of the first element form the above obtained list and clean the text\n",
    "CIPC_Mild = currently_infected_people_condition[0].get_text()\n",
    "CIPC_Mild"
   ]
  },
  {
   "cell_type": "code",
   "execution_count": null,
   "metadata": {},
   "outputs": [],
   "source": [
    "# get the text of the second element form the above obtained list and clean the text\n",
    "CIPC_Severe = currently_infected_people_condition[1].get_text()\n",
    "CIPC_Severe"
   ]
  },
  {
   "cell_type": "code",
   "execution_count": null,
   "metadata": {},
   "outputs": [],
   "source": [
    "# create a dictionary that hold all the extracted values\n",
    "active_cases_dict = {'Currently Infected People': CIP,\n",
    "                    'Currently Infected People Condition (Mild)': CIPC_Mild,\n",
    "                    'Currently Infected People Condition (Severe)': CIPC_Severe}\n",
    "\n",
    "active_cases_dict"
   ]
  },
  {
   "cell_type": "markdown",
   "metadata": {},
   "source": [
    "# Scrape Table"
   ]
  },
  {
   "cell_type": "code",
   "execution_count": null,
   "metadata": {},
   "outputs": [],
   "source": [
    "# importing the datetime library to obtain the current date and time\n",
    "from datetime import datetime\n",
    "\n",
    "# function that returns the date and the time\n",
    "def get_time_of_parsing():\n",
    "    # datetime object containing current date and time\n",
    "    now = datetime.now()\n",
    "    \n",
    "    # mm-dd-YY H-M-S\n",
    "    date_string = now.strftime(\"%b-%d-%Y %H-%M-%S\")\n",
    "    return(date_string)\n",
    "\n",
    "get_time_of_parsing()"
   ]
  },
  {
   "cell_type": "code",
   "execution_count": null,
   "metadata": {},
   "outputs": [],
   "source": [
    "# running the get_time_of_parsing function to get the date and time at the time of accessing the webpage details\n",
    "date_string = get_time_of_parsing()\n",
    "\n",
    "page = requests.get(\"https://www.worldometers.info/coronavirus/\")\n",
    "\n",
    "# parsing the page using html parser. There are other parsers like lxml\n",
    "soup = BeautifulSoup(page.content, 'html.parser')"
   ]
  },
  {
   "cell_type": "code",
   "execution_count": null,
   "metadata": {},
   "outputs": [],
   "source": [
    "# find() searches for the first occurrence where the class \"main_table_countries_div\" is found\n",
    "table_wrapper = soup.find(class_='main_table_countries_div')\n",
    "# table_wrapper"
   ]
  },
  {
   "cell_type": "code",
   "execution_count": null,
   "metadata": {},
   "outputs": [],
   "source": [
    "# find_all() searches for the all the tags where the class \"table table-bordered table-hover main_table_countries\"\n",
    "# is found and return a list of all the occurences \n",
    "table = table_wrapper.find_all('table', class_=\"table table-bordered table-hover main_table_countries\")\n",
    "# table"
   ]
  },
  {
   "cell_type": "code",
   "execution_count": null,
   "metadata": {},
   "outputs": [],
   "source": [
    "# check how many tables are obtained\n",
    "len(table)"
   ]
  },
  {
   "cell_type": "code",
   "execution_count": null,
   "metadata": {},
   "outputs": [],
   "source": [
    "# select the first table from the above list 'table'\n",
    "stat_table = table[0]\n",
    "# stat_table"
   ]
  },
  {
   "cell_type": "markdown",
   "metadata": {},
   "source": [
    "### Column names before cleaning"
   ]
  },
  {
   "cell_type": "code",
   "execution_count": null,
   "metadata": {},
   "outputs": [],
   "source": [
    "# creating an empty list to contain columns\n",
    "columns = []\n",
    "\n",
    "# the column names are persent inside the 'th' tag\n",
    "for cols in stat_table.find_all('th'):\n",
    "    # cleaning the text of the column names by replacing the unwanted characters by ''\n",
    "    columns.append(cols.text)\n",
    "\n",
    "columns"
   ]
  },
  {
   "cell_type": "markdown",
   "metadata": {},
   "source": [
    "### Column names after cleaning"
   ]
  },
  {
   "cell_type": "code",
   "execution_count": null,
   "metadata": {},
   "outputs": [],
   "source": [
    "# creating an empty list to contain columns\n",
    "columns = []\n",
    "\n",
    "# the column names are persent inside the 'th' tag\n",
    "for cols in stat_table.find_all('th'):\n",
    "    # cleaning the text of the column names by replacing the unwanted characters by ''\n",
    "    columns.append(cols.text.replace('\\n', '').replace('\\xa0', ''))\n",
    "\n",
    "# cleaning the name of the first column 'Country, others'. Considering only the word 'Country' as the column name\n",
    "columns[0] = columns[0].split(',')[0]\n",
    "columns"
   ]
  },
  {
   "cell_type": "markdown",
   "metadata": {},
   "source": [
    "### Extract each cell from the table"
   ]
  },
  {
   "cell_type": "code",
   "execution_count": null,
   "metadata": {},
   "outputs": [],
   "source": [
    "for row in stat_table.find_all('tr'):\n",
    "    for cell in row.find_all('td'):\n",
    "        print(cell.text)"
   ]
  },
  {
   "cell_type": "markdown",
   "metadata": {},
   "source": [
    "# Writing the data to a text file 'covid.txt'"
   ]
  },
  {
   "cell_type": "markdown",
   "metadata": {},
   "source": [
    "#### Write all the data directly to the txt file"
   ]
  },
  {
   "cell_type": "code",
   "execution_count": null,
   "metadata": {},
   "outputs": [],
   "source": [
    "# opening the text file in writing mode\n",
    "with open('covid.txt', 'w') as r:\n",
    "    # iterating the list items for 'tr' tag. We are taking the rows from 9 because the rows from 0 to 8 are unnecessary\n",
    "    for row in stat_table.find_all('tr'):\n",
    "        # iterate the cell value of each row. The cell value is present inside the 'td' tag\n",
    "        for cell in row.find_all('td'):\n",
    "            # write the cell to the text file\n",
    "            r.write(cell.text)\n",
    "            # leave a tab after each cell\n",
    "            r.write('\\t')\n",
    "        # go to the newline after writing a row\n",
    "        r.write('\\n')"
   ]
  },
  {
   "cell_type": "markdown",
   "metadata": {},
   "source": [
    "#### Write the relevant data to the txt file"
   ]
  },
  {
   "cell_type": "code",
   "execution_count": null,
   "metadata": {},
   "outputs": [],
   "source": [
    "# opening the text file in writing mode\n",
    "with open('covid.txt', 'w') as r:\n",
    "    # iterating the list items for 'tr' tag. We are taking the rows from 9 because the rows from 0 to 8 are unnecessary\n",
    "    for row in stat_table.find_all('tr')[9:]:\n",
    "        # iterate the cell value of each row. The cell value is present inside the 'td' tag\n",
    "        for cell in row.find_all('td'):\n",
    "            # write the cell to the text file\n",
    "            r.write(cell.text)\n",
    "            # leave a tab after each cell\n",
    "            r.write('\\t')\n",
    "        # go to the newline after writing a row\n",
    "        r.write('\\n')"
   ]
  },
  {
   "cell_type": "markdown",
   "metadata": {},
   "source": [
    "### Read the covid.txt file as a dataframe"
   ]
  },
  {
   "cell_type": "code",
   "execution_count": null,
   "metadata": {},
   "outputs": [],
   "source": [
    "# reading the covid.txt file as a dataframe\n",
    "# header = None: will not consider the first row as the columns\n",
    "# sep = '\\t': parse the cells separated by a tab\n",
    "# names=columns: assigns the column name\n",
    "# # index_col=False: will not consider the first column as the row index\n",
    "covid = pd.read_csv('covid.txt', \n",
    "                    encoding='latin-1', \n",
    "                    header=None, \n",
    "                    sep='\\t', \n",
    "                    names=columns, \n",
    "                    index_col=False\n",
    "                   )"
   ]
  },
  {
   "cell_type": "code",
   "execution_count": null,
   "metadata": {},
   "outputs": [],
   "source": [
    "covid.tail(10)"
   ]
  },
  {
   "cell_type": "code",
   "execution_count": null,
   "metadata": {},
   "outputs": [],
   "source": [
    "# creating a separate dataset that contains the details of total corona cases for each continent\n",
    "covid_cases_per_continent = covid[214:220].iloc[:, [1,2,3,4,5,6,7,12]]\n",
    "covid_cases_per_continent"
   ]
  },
  {
   "cell_type": "markdown",
   "metadata": {},
   "source": [
    "### Writing the dataframe 'covid_cases_per_continent' to a csv file with the timestamp"
   ]
  },
  {
   "cell_type": "code",
   "execution_count": null,
   "metadata": {},
   "outputs": [],
   "source": [
    "# index=False ignores the index column\n",
    "covid_cases_per_continent.to_csv('covid_per_continent {}.csv'.format(date_string), index=False)"
   ]
  },
  {
   "cell_type": "code",
   "execution_count": null,
   "metadata": {},
   "outputs": [],
   "source": [
    "# replacing the null values with 0\n",
    "covid.replace(np.nan, 0, inplace = True)\n",
    "covid"
   ]
  },
  {
   "cell_type": "code",
   "execution_count": null,
   "metadata": {},
   "outputs": [],
   "source": [
    "# ignoring the last rows that contains the details of total corona cases for each continent\n",
    "# this will contain the details of total corona cases for each country \n",
    "covid = covid[0:214]\n",
    "covid"
   ]
  },
  {
   "cell_type": "markdown",
   "metadata": {},
   "source": [
    "# Writing the dataframe to a csv file with the timestamp"
   ]
  },
  {
   "cell_type": "code",
   "execution_count": null,
   "metadata": {},
   "outputs": [],
   "source": [
    "# index=False ignores the index column\n",
    "covid.to_csv('covid {}.csv'.format(date_string), index=False)"
   ]
  },
  {
   "cell_type": "markdown",
   "metadata": {},
   "source": [
    "  <tr>\n",
    "        <td width=\"50%\">\n",
    "            <img src=\"stage 1.png\" class=\"center\" width=100%>\n",
    "        </td>\n",
    "   \n",
    "    </tr>"
   ]
  }
 ],
 "metadata": {
  "kernelspec": {
   "display_name": "Python 3",
   "language": "python",
   "name": "python3"
  },
  "language_info": {
   "codemirror_mode": {
    "name": "ipython",
    "version": 3
   },
   "file_extension": ".py",
   "mimetype": "text/x-python",
   "name": "python",
   "nbconvert_exporter": "python",
   "pygments_lexer": "ipython3",
   "version": "3.7.4"
  }
 },
 "nbformat": 4,
 "nbformat_minor": 2
}
